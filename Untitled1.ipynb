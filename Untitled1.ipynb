{
 "cells": [
  {
   "cell_type": "code",
   "execution_count": 11,
   "id": "f0edeabe-9de6-4f9c-bf4b-a687287fb8b7",
   "metadata": {},
   "outputs": [
    {
     "data": {
      "text/plain": [
       "<Response [200]>"
      ]
     },
     "execution_count": 11,
     "metadata": {},
     "output_type": "execute_result"
    }
   ],
   "source": [
    "import requests\n",
    "import pandas as pd\n",
    "from bs4 import BeautifulSoup\n",
    "\n",
    "URL = 'https://www.pro-football-reference.com/players/Y/YounCh04/gamelog/2020/'\n",
    "\n",
    "page = requests.get(URL)\n",
    "page"
   ]
  },
  {
   "cell_type": "code",
   "execution_count": 12,
   "id": "55a02a9c-2da3-4b05-ab5d-2839d30afae0",
   "metadata": {},
   "outputs": [],
   "source": [
    "soup = BeautifulSoup(page.content, 'html.parser')"
   ]
  },
  {
   "cell_type": "code",
   "execution_count": 1,
   "id": "180f0ec8-d704-4736-8108-bf3a14b6f2fb",
   "metadata": {},
   "outputs": [],
   "source": [
    "# row1 = soup.find_all('tr')[1:]\n",
    "# row1"
   ]
  },
  {
   "cell_type": "code",
   "execution_count": 4,
   "id": "6cfa6a77-acbd-4f80-bf5a-8cd88697ec0c",
   "metadata": {},
   "outputs": [
    {
     "name": "stdout",
     "output_type": "stream",
     "text": [
      "['Rk', 'Date', 'G#', 'Week', 'Age', 'Tm', '', 'Opp', 'Result', 'GS', 'TD', 'Pts', 'Sk', 'Solo', 'Ast', 'Comb', 'TFL', 'QBHits', 'Int', 'Yds', 'TD', 'PD', 'Fmb', 'FL', 'FF', 'FR', 'Yds', 'TD', 'Num', 'Pct', 'Num', 'Pct', 'Num', 'Pct', 'Status']\n",
      "------------------------\n"
     ]
    }
   ],
   "source": [
    "from bs4 import BeautifulSoup\n",
    "import pandas as pd\n",
    "import requests\n",
    "# Set the year as its own variable so that you can easily change it later if requested\n",
    "year = 2020 \n",
    "\n",
    "url = 'https://www.pro-football-reference.com/players/Y/YounCh04/gamelog/2020/'\n",
    "r = requests.get(url)\n",
    "soup = BeautifulSoup(r.content, 'html.parser')\n",
    "\n",
    "\n",
    "headers = [] # Start the headers list\n",
    "header = soup.findAll('tr')[1].findAll('th') # Grab each 'th' from the second mention of 'tr'\n",
    "for i in header: # Go through each 'th' that was found\n",
    "    headers.append(i.get_text()) # And add to the empty headers list\n",
    "\n",
    "print(headers)\n",
    "print('------------------------')\n",
    "   \n"
   ]
  },
  {
   "cell_type": "code",
   "execution_count": 15,
   "id": "db9f57e7-6a84-42c4-a273-5f5dcf107715",
   "metadata": {},
   "outputs": [
    {
     "name": "stdout",
     "output_type": "stream",
     "text": [
      "['2020-09-13', '1', '1', '21.152', 'WAS', '', 'PHI', 'W 27-17', '*', '0', '0', '1.5', '2', '2', '4', '0', '1', '0', '0', '0', '0', '0', '0', '1', '0', '0', '0', '0', '0%', '53', '78%', '3', '9%', '', '2020-09-20', '2', '2', '21.159', 'WAS', '@', 'ARI', 'L 15-30', '*', '0', '0', '1.0', '4', '0', '4', '2', '1', '0', '0', '0', '0', '0', '0', '0', '0', '0', '0', '0', '0%', '55', '71%', '0', '0%', '', '2020-09-27', '3', '3', '21.166', 'WAS', '@', 'CLE', 'L 20-34', '*', '0', '0', '', '', '', '', '', '', '', '', '', '', '0', '', '', '0', '0', '0', '0', '0%', '13', '21%', '1', '4%', '', '2020-10-04', '4', '4', '', 'WAS', '', 'BAL', 'L 17-31', 'Inactive', '2020-10-11', '5', '5', '21.180', 'WAS', '', 'LAR', 'L 10-30', '*', '0', '0', '0.0', '2', '0', '2', '1', '0', '0', '0', '0', '0', '0', '0', '0', '0', '0', '0', '0', '0%', '45', '66%', '0', '0%', '', '2020-10-18', '6', '6', '21.187', 'WAS', '@', 'NYG', 'L 19-20', '*', '0', '0', '0.0', '2', '1', '3', '1', '0', '0', '0', '0', '0', '0', '0', '0', '0', '0', '0', '0', '0%', '44', '91%', '0', '0%', '', '2020-10-25', '7', '7', '21.194', 'WAS', '', 'DAL', 'W 25-3', '*', '0', '0', '0.0', '5', '1', '6', '1', '0', '0', '0', '0', '0', '0', '0', '0', '0', '0', '0', '0', '0%', '47', '82%', '0', '0%', '', '2020-11-08', '8', '9', '21.208', 'WAS', '', 'NYG', 'L 20-23', '*', '0', '0', '1.0', '1', '0', '1', '0', '2', '0', '0', '0', '0', '0', '0', '0', '0', '0', '0', '0', '0%', '64', '83%', '0', '0%', '', '2020-11-15', '9', '10', '21.215', 'WAS', '@', 'DET', 'L 27-30', '*', '0', '0', '0.0', '2', '0', '2', '0', '0', '0', '0', '0', '0', '0', '0', '0', '0', '0', '0', '0', '0%', '49', '83%', '0', '0%', '', '2020-11-22', '10', '11', '21.222', 'WAS', '', 'CIN', 'W 20-9', '*', '0', '0', '0.0', '2', '1', '3', '0', '0', '0', '0', '0', '1', '0', '0', '1', '0', '0', '0', '0', '0%', '53', '78%', '0', '0%', '', '2020-11-26', '11', '12', '21.226', 'WAS', '@', 'DAL', 'W 41-16', '*', '0', '0', '1.0', '2', '0', '2', '2', '1', '0', '0', '0', '0', '0', '0', '0', '0', '0', '0', '0', '0%', '51', '87%', '0', '0%', '', '2020-12-07', '12', '13', '21.237', 'WAS', '@', 'PIT', 'W 23-17', '*', '0', '0', '0.0', '2', '0', '2', '0', '1', '0', '0', '0', '0', '0', '0', '0', '0', '0', '0', '0', '0%', '63', '89%', '0', '0%', '', '2020-12-13', '13', '14', '21.243', 'WAS', '@', 'SFO', 'W 23-15', '*', '1', '6', '1.0', '2', '4', '6', '1', '2', '0', '0', '0', '2', '0', '0', '1', '1', '47', '1', '0', '0%', '61', '75%', '0', '0%', '', '2020-12-20', '14', '15', '21.250', 'WAS', '', 'SEA', 'L 15-20', '*', '0', '0', '0.0', '1', '2', '3', '0', '0', '0', '0', '0', '0', '0', '0', '0', '0', '0', '0', '0', '0%', '48', '84%', '0', '0%', '', '2020-12-27', '15', '16', '21.257', 'WAS', '', 'CAR', 'L 13-20', '*', '0', '0', '1.0', '3', '1', '4', '1', '1', '0', '0', '0', '1', '0', '0', '1', '1', '0', '0', '0', '0%', '62', '92%', '0', '0%', '', '2021-01-03', '16', '17', '21.264', 'WAS', '@', 'PHI', 'W 20-14', '*', '0', '0', '1.0', '2', '0', '2', '1', '3', '0', '0', '0', '0', '0', '0', '0', '1', '10', '0', '0', '0%', '62', '91%', '0', '0%', '']\n"
     ]
    }
   ],
   "source": [
    "data = [] # Start the data list\n",
    "rows = soup.findAll('tbody')[0].findAll('td') # Find all mentions of 'td' in the 'tbody' associated with the regular season\n",
    "for i in rows:\n",
    "    data.append(i.get_text()) # Add each row into the data list\n",
    "\n",
    "print(data)\n",
    "# stats = pd.DataFrame([data], columns = headers) # Create a dataframe with the data and the headers"
   ]
  }
 ],
 "metadata": {
  "kernelspec": {
   "display_name": "Python 3",
   "language": "python",
   "name": "python3"
  },
  "language_info": {
   "codemirror_mode": {
    "name": "ipython",
    "version": 3
   },
   "file_extension": ".py",
   "mimetype": "text/x-python",
   "name": "python",
   "nbconvert_exporter": "python",
   "pygments_lexer": "ipython3",
   "version": "3.9.5"
  }
 },
 "nbformat": 4,
 "nbformat_minor": 5
}
