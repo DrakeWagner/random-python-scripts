{
 "cells": [
  {
   "cell_type": "markdown",
   "id": "7173e4d1-3da7-4126-bfe7-e1fc9d4cfd55",
   "metadata": {},
   "source": [
    "IN progress\n",
    "\n",
    "input (or scrape) band members active dates (like to be down to the day of year, or at least month) and record releases\n",
    "plot like wikipedia does, but interactive\n",
    "    - select time frame\n",
    "    - note instrument changes (bassist leaves on X day, new bassist comes in at y day, for example)\n",
    "not every band has a graph, this could be an alternative\n",
    "\n",
    "Spotify API seems best way to obtain album release dates that include month and day\n",
    "    - combine with scraping for band members?"
   ]
  },
  {
   "cell_type": "code",
   "execution_count": 816,
   "id": "2397ad25-1aea-49f0-a221-9aa2c14ab15d",
   "metadata": {},
   "outputs": [
    {
     "name": "stdout",
     "output_type": "stream",
     "text": [
      "Successfully accessed API\n"
     ]
    }
   ],
   "source": [
    "import requests\n",
    "import pandas as pd\n",
    "import matplotlib.pyplot as plt\n",
    "# %matplotlib inline\n",
    "import matplotlib.dates as mdates\n",
    "import seaborn as sns\n",
    "import dotenv\n",
    "# from dotenv import load_dotenv\n",
    "import os\n",
    "import numpy as np\n",
    "\n",
    "\n",
    "### Load in Spotify API credentials here \n",
    "os.chdir('C:\\\\Users\\\\dwagn\\\\Desktop')\n",
    "dotenv.load_dotenv()\n",
    "CLIENT_ID = os.getenv('spotify-client-id')\n",
    "CLIENT_SECRET = os.getenv('spotify-client-secret')\n",
    "os.chdir('C:\\\\Users\\\\dwagn\\\\git\\\\projects')\n",
    "\n",
    "\n",
    "### Setup \n",
    "AUTH_URL = 'https://accounts.spotify.com/api/token'\n",
    "\n",
    "auth_response = requests.post(AUTH_URL, {\n",
    "    'grant_type': 'client_credentials',\n",
    "    'client_id': CLIENT_ID,\n",
    "    'client_secret': CLIENT_SECRET\n",
    "})\n",
    "\n",
    "auth_response_data = auth_response.json()\n",
    "access_token = auth_response_data['access_token']\n",
    "\n",
    "try:\n",
    "    auth_response.status_code == 200\n",
    "    print('Successfully accessed API')\n",
    "except:\n",
    "    raise Exception('API credentials rejected.')"
   ]
  },
  {
   "cell_type": "code",
   "execution_count": 817,
   "id": "475226b8-795a-46fa-8617-685abcaa3a7a",
   "metadata": {},
   "outputs": [],
   "source": [
    "### Uncomment below for manual entry\n",
    "# artist_share_url = input('Paste artist spotify share link: ')\n",
    "# artist_id = artist_share_url.split('/')[4].split('?')[0]\n",
    "artist_id = '2hl0xAkS2AIRAu23TVMBG1'\n",
    "\n",
    "headers = {'Authorization': 'Bearer {}'.format(access_token)}\n",
    "url = 'https://api.spotify.com/v1/'\n",
    "\n",
    "artist_name = requests.get(url + 'artists/' + artist_id, headers=headers).json()['name']\n",
    "    \n",
    "albums = requests.get(url + 'artists/' + artist_id + '/albums', \n",
    "                 headers=headers, \n",
    "                 params={'include_groups': 'album', 'limit': 50}).json()\n",
    "\n",
    "album_names_dates = {}\n",
    "for album in albums['items']:\n",
    "    album_names_dates[album['name']] = album['release_date']"
   ]
  },
  {
   "cell_type": "code",
   "execution_count": 818,
   "id": "3e9966cd-606b-4625-bc72-df6e5910668e",
   "metadata": {},
   "outputs": [],
   "source": [
    "albums_df = pd.DataFrame.from_dict(album_names_dates, orient = 'index').reset_index()\n",
    "albums_df.columns = ['album', 'release_date']"
   ]
  },
  {
   "cell_type": "code",
   "execution_count": 819,
   "id": "6ff42241-d328-4b10-a299-08aa7ca61f1b",
   "metadata": {},
   "outputs": [
    {
     "data": {
      "text/html": [
       "<div>\n",
       "<style scoped>\n",
       "    .dataframe tbody tr th:only-of-type {\n",
       "        vertical-align: middle;\n",
       "    }\n",
       "\n",
       "    .dataframe tbody tr th {\n",
       "        vertical-align: top;\n",
       "    }\n",
       "\n",
       "    .dataframe thead th {\n",
       "        text-align: right;\n",
       "    }\n",
       "</style>\n",
       "<table border=\"1\" class=\"dataframe\">\n",
       "  <thead>\n",
       "    <tr style=\"text-align: right;\">\n",
       "      <th></th>\n",
       "      <th>album</th>\n",
       "      <th>release_date</th>\n",
       "    </tr>\n",
       "  </thead>\n",
       "  <tbody>\n",
       "    <tr>\n",
       "      <th>0</th>\n",
       "      <td>Nothing To Lose (Live 1984)</td>\n",
       "      <td>2021-11-03</td>\n",
       "    </tr>\n",
       "    <tr>\n",
       "      <th>1</th>\n",
       "      <td>Point Of Know Return Live &amp; Beyond</td>\n",
       "      <td>2021-05-28</td>\n",
       "    </tr>\n",
       "    <tr>\n",
       "      <th>2</th>\n",
       "      <td>Talk To The Wind (Live In Chicago '76)</td>\n",
       "      <td>2020-12-04</td>\n",
       "    </tr>\n",
       "    <tr>\n",
       "      <th>3</th>\n",
       "      <td>Beyond The Illusion (The 1980 New York Broadca...</td>\n",
       "      <td>2020-07-31</td>\n",
       "    </tr>\n",
       "    <tr>\n",
       "      <th>4</th>\n",
       "      <td>The Absence Of Presence</td>\n",
       "      <td>2020-07-17</td>\n",
       "    </tr>\n",
       "    <tr>\n",
       "      <th>5</th>\n",
       "      <td>The Absence of Presence</td>\n",
       "      <td>2020-07-17</td>\n",
       "    </tr>\n",
       "    <tr>\n",
       "      <th>6</th>\n",
       "      <td>Wheels and Other Rarities</td>\n",
       "      <td>2018-11-30</td>\n",
       "    </tr>\n",
       "    <tr>\n",
       "      <th>7</th>\n",
       "      <td>Leftoverture Live &amp; Beyond</td>\n",
       "      <td>2017-11-03</td>\n",
       "    </tr>\n",
       "    <tr>\n",
       "      <th>8</th>\n",
       "      <td>The Prelude Implicit</td>\n",
       "      <td>2016-09-23</td>\n",
       "    </tr>\n",
       "    <tr>\n",
       "      <th>9</th>\n",
       "      <td>The Prelude Implicit (Deluxe Edition)</td>\n",
       "      <td>2016-09-23</td>\n",
       "    </tr>\n",
       "    <tr>\n",
       "      <th>10</th>\n",
       "      <td>Freaks of Nature</td>\n",
       "      <td>2012-07-17</td>\n",
       "    </tr>\n",
       "    <tr>\n",
       "      <th>11</th>\n",
       "      <td>There's Know Place Like Home</td>\n",
       "      <td>2009-10-13</td>\n",
       "    </tr>\n",
       "    <tr>\n",
       "      <th>12</th>\n",
       "      <td>Somewhere To Elsewhere</td>\n",
       "      <td>2000-01-01</td>\n",
       "    </tr>\n",
       "    <tr>\n",
       "      <th>13</th>\n",
       "      <td>Always Never The Same</td>\n",
       "      <td>1998-01-01</td>\n",
       "    </tr>\n",
       "    <tr>\n",
       "      <th>14</th>\n",
       "      <td>Live at the Whisky</td>\n",
       "      <td>1993-01-01</td>\n",
       "    </tr>\n",
       "    <tr>\n",
       "      <th>15</th>\n",
       "      <td>In The Spirit Of Things</td>\n",
       "      <td>1988-01-01</td>\n",
       "    </tr>\n",
       "    <tr>\n",
       "      <th>16</th>\n",
       "      <td>Power</td>\n",
       "      <td>1986-01-01</td>\n",
       "    </tr>\n",
       "    <tr>\n",
       "      <th>17</th>\n",
       "      <td>Drastic Measures</td>\n",
       "      <td>1983-07-01</td>\n",
       "    </tr>\n",
       "    <tr>\n",
       "      <th>18</th>\n",
       "      <td>Vinyl Confessions</td>\n",
       "      <td>1982-06-01</td>\n",
       "    </tr>\n",
       "    <tr>\n",
       "      <th>19</th>\n",
       "      <td>Audio-Visions</td>\n",
       "      <td>1980-09-01</td>\n",
       "    </tr>\n",
       "    <tr>\n",
       "      <th>20</th>\n",
       "      <td>Monolith</td>\n",
       "      <td>1979-05-01</td>\n",
       "    </tr>\n",
       "    <tr>\n",
       "      <th>21</th>\n",
       "      <td>Two For The Show (30th Anniversary Edition)</td>\n",
       "      <td>1978-10-01</td>\n",
       "    </tr>\n",
       "    <tr>\n",
       "      <th>22</th>\n",
       "      <td>Point Of Know Return (Expanded Edition)</td>\n",
       "      <td>1977-01-01</td>\n",
       "    </tr>\n",
       "    <tr>\n",
       "      <th>23</th>\n",
       "      <td>Leftoverture (Expanded Edition)</td>\n",
       "      <td>1976-01-01</td>\n",
       "    </tr>\n",
       "    <tr>\n",
       "      <th>24</th>\n",
       "      <td>Masque (Expanded Edition)</td>\n",
       "      <td>1975-01-01</td>\n",
       "    </tr>\n",
       "    <tr>\n",
       "      <th>25</th>\n",
       "      <td>Song For America (Expanded Edition)</td>\n",
       "      <td>1975-01-01</td>\n",
       "    </tr>\n",
       "    <tr>\n",
       "      <th>26</th>\n",
       "      <td>Kansas (Expanded Edition)</td>\n",
       "      <td>1974-01-01</td>\n",
       "    </tr>\n",
       "  </tbody>\n",
       "</table>\n",
       "</div>"
      ],
      "text/plain": [
       "                                                album release_date\n",
       "0                         Nothing To Lose (Live 1984)   2021-11-03\n",
       "1                  Point Of Know Return Live & Beyond   2021-05-28\n",
       "2              Talk To The Wind (Live In Chicago '76)   2020-12-04\n",
       "3   Beyond The Illusion (The 1980 New York Broadca...   2020-07-31\n",
       "4                             The Absence Of Presence   2020-07-17\n",
       "5                             The Absence of Presence   2020-07-17\n",
       "6                           Wheels and Other Rarities   2018-11-30\n",
       "7                          Leftoverture Live & Beyond   2017-11-03\n",
       "8                                The Prelude Implicit   2016-09-23\n",
       "9               The Prelude Implicit (Deluxe Edition)   2016-09-23\n",
       "10                                   Freaks of Nature   2012-07-17\n",
       "11                       There's Know Place Like Home   2009-10-13\n",
       "12                             Somewhere To Elsewhere   2000-01-01\n",
       "13                              Always Never The Same   1998-01-01\n",
       "14                                 Live at the Whisky   1993-01-01\n",
       "15                            In The Spirit Of Things   1988-01-01\n",
       "16                                              Power   1986-01-01\n",
       "17                                   Drastic Measures   1983-07-01\n",
       "18                                  Vinyl Confessions   1982-06-01\n",
       "19                                      Audio-Visions   1980-09-01\n",
       "20                                           Monolith   1979-05-01\n",
       "21        Two For The Show (30th Anniversary Edition)   1978-10-01\n",
       "22            Point Of Know Return (Expanded Edition)   1977-01-01\n",
       "23                    Leftoverture (Expanded Edition)   1976-01-01\n",
       "24                          Masque (Expanded Edition)   1975-01-01\n",
       "25                Song For America (Expanded Edition)   1975-01-01\n",
       "26                          Kansas (Expanded Edition)   1974-01-01"
      ]
     },
     "execution_count": 819,
     "metadata": {},
     "output_type": "execute_result"
    }
   ],
   "source": [
    "albums_df.release_date = pd.to_datetime(albums_df.release_date)\n",
    "albums_df"
   ]
  },
  {
   "cell_type": "code",
   "execution_count": 820,
   "id": "317b58e1-1ca0-4cdb-9f33-f13949671d18",
   "metadata": {},
   "outputs": [
    {
     "data": {
      "image/png": "[encoded data removed]",
      "text/plain": [
       "<Figure size 1440x576 with 1 Axes>"
      ]
     },
     "metadata": {
      "needs_background": "light"
     },
     "output_type": "display_data"
    }
   ],
   "source": [
    "# stem([locs,] heads, linefmt=None, markerfmt=None, basefmt=None)\n",
    "dates = albums_df.release_date\n",
    "names = albums_df.album\n",
    "levels = np.tile([-9, 9, -7, 7, -5, 5, -3, 3, -1, 1],\n",
    "                 int(np.ceil(len(dates)/6)))[:len(dates)]\n",
    "\n",
    "fig, ax = plt.subplots(figsize=(20, 8), constrained_layout=True)\n",
    "ax.set(title='Stem plot test')\n",
    "ax.vlines(dates, 0, levels, color='tab:red')\n",
    "ax.plot(dates, np.zeros_like(dates), '-o',\n",
    "        color='k', markerfacecolor='w')\n",
    "\n",
    "for d, l, r in zip(dates, levels, names):\n",
    "    ax.annotate(r, xy=(d, l),\n",
    "                xytext=(-3, np.sign(l)*3), textcoords=\"offset points\",\n",
    "                horizontalalignment=\"right\",\n",
    "                verticalalignment=\"bottom\" if l > 0 else \"top\")\n",
    "    \n",
    "ax.xaxis.set_major_locator(mdates.MonthLocator(interval=12)) # by year\n",
    "ax.xaxis.set_major_formatter(mdates.DateFormatter(\"%b %Y\"))\n",
    "plt.setp(ax.get_xticklabels(), rotation=90, ha=\"right\"); # semicolon stopping label output\n",
    "\n",
    "ax.margins(y=0.1, x=0.1)\n",
    "ax.get_yaxis().set_visible(False)\n",
    "plt.show()"
   ]
  },
  {
   "cell_type": "code",
   "execution_count": 823,
   "id": "54b3fe5a-62fe-4edf-820c-956f9efcf28a",
   "metadata": {},
   "outputs": [
    {
     "name": "stdout",
     "output_type": "stream",
     "text": [
      "Successfully accessed Kansas_(band) webpage\n"
     ]
    }
   ],
   "source": [
    "# Scrape Wikipedia Band Members Dates\n",
    "\n",
    "import requests\n",
    "import csv\n",
    "from bs4 import BeautifulSoup\n",
    "import datetime\n",
    "\n",
    "\n",
    "headers = {'user-agent': 'Contact: dbw2tn@virginia.edu (Language=Python 3.8.2; Platform=Linux(MX-19.4 / 31))'} \n",
    "\n",
    "url_band_name = 'Kansas_(band)'\n",
    "url = 'https://en.wikipedia.org/wiki/{}'.format(url_band_name)\n",
    "result = requests.get(url, headers = headers)\n",
    "\n",
    "\n",
    "try:\n",
    "    result.status_code == 200\n",
    "    print('Successfully accessed {} webpage'.format(url_band_name))\n",
    "except:\n",
    "    raise Exception('Error accessing {} webpage'.format(url_band_name))\n",
    "\n",
    "src = result.content \n",
    "soup = BeautifulSoup(src, 'html.parser') "
   ]
  },
  {
   "cell_type": "code",
   "execution_count": 827,
   "id": "ae0a8555-8571-48f7-9a1d-649cd14891b3",
   "metadata": {},
   "outputs": [
    {
     "data": {
      "text/plain": [
       "'/wiki/List_of_Kansas_band_members'"
      ]
     },
     "execution_count": 827,
     "metadata": {},
     "output_type": "execute_result"
    }
   ],
   "source": [
    "members_link = soup.find(text=lambda s: \"main article:\" in s.lower()) \\\n",
    "              .findNextSibling('a', href=True).get('href') # get link for full members page\n",
    "members_link"
   ]
  },
  {
   "cell_type": "code",
   "execution_count": 838,
   "id": "44c8878e-a872-4ae7-b6ba-ecfd424ff597",
   "metadata": {},
   "outputs": [
    {
     "data": {
      "text/plain": [
       "[<span class=\"mw-editsection-bracket\">[</span>,\n",
       " <a href=\"/w/index.php?title=Kansas_(band)&amp;action=edit&amp;section=13\" title=\"Edit section: Members\">edit</a>,\n",
       " <span class=\"mw-editsection-bracket\">]</span>]"
      ]
     },
     "execution_count": 838,
     "metadata": {},
     "output_type": "execute_result"
    }
   ],
   "source": [
    "mems = soup.find(id='Members')\n",
    "mems.next_sibling()"
   ]
  },
  {
   "cell_type": "code",
   "execution_count": 833,
   "id": "64bbe2f1-70e7-4cd1-a058-14cff38e5d80",
   "metadata": {},
   "outputs": [
    {
     "name": "stdout",
     "output_type": "stream",
     "text": [
      "Found current members\n"
     ]
    }
   ],
   "source": [
    "try:\n",
    "    current_members = soup.find(text=lambda s: \"current members\" in s.lower()) \\\n",
    "                  .findNext('ul').get_text().split('\\n')\n",
    "    print('Found current members')\n",
    "except:\n",
    "    print('No current members listed')"
   ]
  },
  {
   "cell_type": "code",
   "execution_count": 834,
   "id": "e6088d16-0571-45dd-9f89-55746f4f8906",
   "metadata": {},
   "outputs": [
    {
     "name": "stdout",
     "output_type": "stream",
     "text": [
      "No former members listed on this page\n"
     ]
    }
   ],
   "source": [
    "try:\n",
    "    former_members_main_page = soup.find(text = lambda s: 'former members' in s.lower()) \\\n",
    "                           .findNext('ul').get_text().split('\\n')\n",
    "    print('Found former members')\n",
    "except:\n",
    "    print('No former members listed on this page')"
   ]
  },
  {
   "cell_type": "code",
   "execution_count": 835,
   "id": "8e58b97d-355e-4c4c-abf0-22aa1c1c90a3",
   "metadata": {},
   "outputs": [],
   "source": [
    "split_names = [mem.split(' – ') for mem in current_members]\n",
    "split_names = [item for sublist in split_names for item in sublist] # back to single list\n",
    "split_dates = [d.split('(') for d in split_names[1::2]]\n",
    "split_dates = [item for sublist in split_dates for item in sublist]\n",
    "instr = split_dates[::2]\n",
    "dates = split_dates[1::2]\n",
    "names = split_names[::2]"
   ]
  },
  {
   "cell_type": "code",
   "execution_count": 836,
   "id": "6e7a31a5-94e1-4031-af5e-08c531435537",
   "metadata": {},
   "outputs": [
    {
     "data": {
      "text/html": [
       "<div>\n",
       "<style scoped>\n",
       "    .dataframe tbody tr th:only-of-type {\n",
       "        vertical-align: middle;\n",
       "    }\n",
       "\n",
       "    .dataframe tbody tr th {\n",
       "        vertical-align: top;\n",
       "    }\n",
       "\n",
       "    .dataframe thead th {\n",
       "        text-align: right;\n",
       "    }\n",
       "</style>\n",
       "<table border=\"1\" class=\"dataframe\">\n",
       "  <thead>\n",
       "    <tr style=\"text-align: right;\">\n",
       "      <th></th>\n",
       "      <th>names</th>\n",
       "      <th>instruments</th>\n",
       "      <th>dates</th>\n",
       "    </tr>\n",
       "  </thead>\n",
       "  <tbody>\n",
       "    <tr>\n",
       "      <th>0</th>\n",
       "      <td>Phil Ehart</td>\n",
       "      <td>drums, percussion</td>\n",
       "      <td>1970-1971, 1973–1984, 1985–present)</td>\n",
       "    </tr>\n",
       "    <tr>\n",
       "      <th>1</th>\n",
       "      <td>Rich Williams</td>\n",
       "      <td>lead and rhythm guitars</td>\n",
       "      <td>1973–1984, 1985–present)</td>\n",
       "    </tr>\n",
       "    <tr>\n",
       "      <th>2</th>\n",
       "      <td>Billy Greer</td>\n",
       "      <td>bass, acoustic guitar, backing and lead vocals</td>\n",
       "      <td>1985–present)</td>\n",
       "    </tr>\n",
       "    <tr>\n",
       "      <th>3</th>\n",
       "      <td>David Ragsdale</td>\n",
       "      <td>violin, rhythm guitar, backing vocals</td>\n",
       "      <td>1991–1997, 2006–present)</td>\n",
       "    </tr>\n",
       "    <tr>\n",
       "      <th>4</th>\n",
       "      <td>Ronnie Platt</td>\n",
       "      <td>lead and backing vocals, keyboards</td>\n",
       "      <td>2014–present)</td>\n",
       "    </tr>\n",
       "    <tr>\n",
       "      <th>5</th>\n",
       "      <td>Tom Brislin</td>\n",
       "      <td>keyboards, backing and lead vocals</td>\n",
       "      <td>2018–present)</td>\n",
       "    </tr>\n",
       "  </tbody>\n",
       "</table>\n",
       "</div>"
      ],
      "text/plain": [
       "            names                                      instruments  \\\n",
       "0      Phil Ehart                               drums, percussion    \n",
       "1   Rich Williams                         lead and rhythm guitars    \n",
       "2     Billy Greer  bass, acoustic guitar, backing and lead vocals    \n",
       "3  David Ragsdale           violin, rhythm guitar, backing vocals    \n",
       "4    Ronnie Platt              lead and backing vocals, keyboards    \n",
       "5     Tom Brislin              keyboards, backing and lead vocals    \n",
       "\n",
       "                                 dates  \n",
       "0  1970-1971, 1973–1984, 1985–present)  \n",
       "1             1973–1984, 1985–present)  \n",
       "2                        1985–present)  \n",
       "3             1991–1997, 2006–present)  \n",
       "4                        2014–present)  \n",
       "5                        2018–present)  "
      ]
     },
     "execution_count": 836,
     "metadata": {},
     "output_type": "execute_result"
    }
   ],
   "source": [
    "pd.DataFrame({'names' : names,\n",
    "             'instruments' : instr,\n",
    "             'dates' : dates})"
   ]
  },
  {
   "cell_type": "code",
   "execution_count": 839,
   "id": "122c33ae-1cd7-41bc-be98-40639f1bafd0",
   "metadata": {},
   "outputs": [
    {
     "name": "stdout",
     "output_type": "stream",
     "text": [
      "Full members in link: /wiki/List_of_Kansas_band_members\n"
     ]
    }
   ],
   "source": [
    "# If applicable, get link to full members page\n",
    "if 'members' not in str(soup.find(id=\"toc\").get_text().lower()):\n",
    "    print('Warning: Band Members section not found on this page')\n",
    "if all(x in soup.get_text() for x in ['Main article: List of', 'band members']):\n",
    "    members_link = soup.find(text=lambda s: \"main article:\" in s.lower()) \\\n",
    "                  .findNextSibling('a', href=True).get('href') # get link for full members\n",
    "    print('Full members in link: {}'.format(members_link))"
   ]
  },
  {
   "cell_type": "code",
   "execution_count": 840,
   "id": "b881b678-c541-44d1-a162-42be101f0cb5",
   "metadata": {},
   "outputs": [
    {
     "name": "stdout",
     "output_type": "stream",
     "text": [
      "Successfully accessed /wiki/List_of_Kansas_band_members webpage\n"
     ]
    }
   ],
   "source": [
    "url = 'https://en.wikipedia.org{}'.format(members_link)\n",
    "result = requests.get(url, headers = headers)\n",
    "\n",
    "try:\n",
    "    result.status_code == 200\n",
    "    print('Successfully accessed {} webpage'.format(members_link))\n",
    "except:\n",
    "    raise Exception('Error accessing {} webpage'.format(members_link))\n",
    "\n",
    "src = result.content \n",
    "member_soup = BeautifulSoup(src, 'html.parser') "
   ]
  },
  {
   "cell_type": "code",
   "execution_count": 844,
   "id": "ae83e3ed-33bd-4ec6-953c-1a1b53d60c3f",
   "metadata": {},
   "outputs": [],
   "source": [
    "names, dts, inst, act = [], [], [], [] # init lists before function\n",
    "def memsTableScrape(table, activity):\n",
    "    \n",
    "    for row in table.find_all('tr')[1:]:\n",
    "        name = row.find_all('td')[1].get_text()\n",
    "        dates = row.find_all('td')[2]\n",
    "        instruments = row.find_all('td')[3]\n",
    "        \n",
    "        try:\n",
    "            dts2 = []\n",
    "            for i in dates.find('ul'):\n",
    "                dts2.append(i.get_text())\n",
    "        except:\n",
    "            pass\n",
    "        try:\n",
    "            inst2 = []\n",
    "            for i in instruments.find('ul'):\n",
    "                inst2.append(i.get_text())\n",
    "        except:\n",
    "            pass\n",
    "        \n",
    "        names.append(name)\n",
    "        if len(dts2) > 0:\n",
    "            dts.append(dts2)\n",
    "        else:\n",
    "            dts.append(dates.get_text())\n",
    "        if len(inst2) > 0:\n",
    "            inst.append(inst2)\n",
    "        else:\n",
    "            inst.append(instruments)\n",
    "        act.append(activity)\n"
   ]
  },
  {
   "cell_type": "code",
   "execution_count": 845,
   "id": "6977b59d-97a7-4799-97ff-6b6c9fcf6d1b",
   "metadata": {},
   "outputs": [],
   "source": [
    "tbl1 = member_soup.find('table', attrs={'class' : 'wikitable'}) # current members\n",
    "tbl1_title = tbl1.previous_sibling.previous_sibling.get_text().strip('[edit]')\n",
    "memsTableScrape(tbl1, 'current')"
   ]
  },
  {
   "cell_type": "code",
   "execution_count": 846,
   "id": "5194c14b-a12f-44e9-a0a2-26d089fe9b2d",
   "metadata": {},
   "outputs": [
    {
     "data": {
      "text/plain": [
       "[['drums', 'percussion'],\n",
       " ['guitars (lead 1984, 1989–90, 1991–99, 2000-2016, 2021-present, rhythm otherwise)',\n",
       "  'backing vocals'],\n",
       " ['bass',\n",
       "  'acoustic guitar',\n",
       "  'lead and backing vocals (backing until 2006, co-lead since)'],\n",
       " ['violin',\n",
       "  'backing vocals (rhythm guitar from 1992-1997, 2006-2016, 2021-present)'],\n",
       " ['lead and backing vocals', 'keyboards'],\n",
       " ['keyboards', 'backing vocals']]"
      ]
     },
     "execution_count": 846,
     "metadata": {},
     "output_type": "execute_result"
    }
   ],
   "source": [
    "inst\n",
    "# dts"
   ]
  },
  {
   "cell_type": "code",
   "execution_count": 1007,
   "id": "69f7617b-10de-4ada-a29d-185378fd4b93",
   "metadata": {},
   "outputs": [],
   "source": [
    "try:\n",
    "    tbl2 = tbl1.findNext('table', attrs={'class' : 'wikitable'}) # former members\n",
    "    tbl2_title = tbl2.previous_sibling.previous_sibling.get_text().strip('[edit]')\n",
    "    memsTableScrape(tbl2, 'former')\n",
    "    \n",
    "except:\n",
    "    print('No second table')"
   ]
  },
  {
   "cell_type": "code",
   "execution_count": 1008,
   "id": "090bb4b8-91c6-4d1e-b2f9-06e10b5607fc",
   "metadata": {},
   "outputs": [],
   "source": [
    "df_memspage = pd.DataFrame({'names' : names,\n",
    "              'dates' : dts,\n",
    "              'instruments' : inst})\n",
    "\n",
    "df_memspage['names'] = df_memspage['names'].map(lambda x: x.rstrip('\\n'))\n",
    "# df_memspage['instruments'] = df_memspage['instruments'].map(lambda x: x.strip('\\n'))\n",
    "df_memspage['activity'] = act"
   ]
  },
  {
   "cell_type": "code",
   "execution_count": 1009,
   "id": "a8aacaf8-3629-472b-8ebd-69c8d0bd99f6",
   "metadata": {},
   "outputs": [
    {
     "data": {
      "text/plain": [
       "list"
      ]
     },
     "execution_count": 1009,
     "metadata": {},
     "output_type": "execute_result"
    }
   ],
   "source": [
    "type(df_memspage.dates[0])"
   ]
  },
  {
   "cell_type": "code",
   "execution_count": 1012,
   "id": "07990a97-c805-478a-ac17-5a920bbf42eb",
   "metadata": {},
   "outputs": [],
   "source": [
    "# df_memspage = df_memspage.style.set_properties(subset=['instruments'], **{'width': '300px'})\n",
    "\n",
    "# Cast lists to strings\n",
    "for col in df_memspage[['dates', 'instruments']]:\n",
    "    = df_memspage.dates.apply(lambda row: ', '.join(row) if type(row) is list else row)\n"
   ]
  },
  {
   "cell_type": "code",
   "execution_count": 1013,
   "id": "fc6c343e-b84a-4786-9bcc-f1b85f234a78",
   "metadata": {},
   "outputs": [
    {
     "data": {
      "text/html": [
       "<div>\n",
       "<style scoped>\n",
       "    .dataframe tbody tr th:only-of-type {\n",
       "        vertical-align: middle;\n",
       "    }\n",
       "\n",
       "    .dataframe tbody tr th {\n",
       "        vertical-align: top;\n",
       "    }\n",
       "\n",
       "    .dataframe thead th {\n",
       "        text-align: right;\n",
       "    }\n",
       "</style>\n",
       "<table border=\"1\" class=\"dataframe\">\n",
       "  <thead>\n",
       "    <tr style=\"text-align: right;\">\n",
       "      <th></th>\n",
       "      <th>names</th>\n",
       "      <th>dates</th>\n",
       "      <th>instruments</th>\n",
       "      <th>activity</th>\n",
       "    </tr>\n",
       "  </thead>\n",
       "  <tbody>\n",
       "    <tr>\n",
       "      <th>0</th>\n",
       "      <td>Phil Ehart</td>\n",
       "      <td>1970–1971, 1973–1984, 1985–present</td>\n",
       "      <td>[drums, percussion]</td>\n",
       "      <td>current</td>\n",
       "    </tr>\n",
       "    <tr>\n",
       "      <th>1</th>\n",
       "      <td>Rich Williams</td>\n",
       "      <td>1973–1984, 1985–present</td>\n",
       "      <td>[guitars (lead 1984, 1989–90, 1991–99, 2000-20...</td>\n",
       "      <td>current</td>\n",
       "    </tr>\n",
       "    <tr>\n",
       "      <th>2</th>\n",
       "      <td>Billy Greer</td>\n",
       "      <td>1985–present\\n</td>\n",
       "      <td>[bass, acoustic guitar, lead and backing vocal...</td>\n",
       "      <td>current</td>\n",
       "    </tr>\n",
       "    <tr>\n",
       "      <th>3</th>\n",
       "      <td>David Ragsdale</td>\n",
       "      <td>1991–1997, 2006–present</td>\n",
       "      <td>[violin, backing vocals (rhythm guitar from 19...</td>\n",
       "      <td>current</td>\n",
       "    </tr>\n",
       "    <tr>\n",
       "      <th>4</th>\n",
       "      <td>Ronnie Platt</td>\n",
       "      <td>2014–present\\n</td>\n",
       "      <td>[lead and backing vocals, keyboards]</td>\n",
       "      <td>current</td>\n",
       "    </tr>\n",
       "    <tr>\n",
       "      <th>...</th>\n",
       "      <td>...</td>\n",
       "      <td>...</td>\n",
       "      <td>...</td>\n",
       "      <td>...</td>\n",
       "    </tr>\n",
       "    <tr>\n",
       "      <th>86</th>\n",
       "      <td>John Elefante</td>\n",
       "      <td>1981–1984\\n</td>\n",
       "      <td>[lead and backing vocals, keyboards, synthesiz...</td>\n",
       "      <td>former</td>\n",
       "    </tr>\n",
       "    <tr>\n",
       "      <th>87</th>\n",
       "      <td>Steve Morse</td>\n",
       "      <td>1985–1989, 1991</td>\n",
       "      <td>[lead and rhythm guitars, backing vocals]</td>\n",
       "      <td>former</td>\n",
       "    </tr>\n",
       "    <tr>\n",
       "      <th>88</th>\n",
       "      <td>Greg Robert</td>\n",
       "      <td>1987–1997\\n</td>\n",
       "      <td>[keyboards, backing vocals]</td>\n",
       "      <td>former</td>\n",
       "    </tr>\n",
       "    <tr>\n",
       "      <th>89</th>\n",
       "      <td>David Manion</td>\n",
       "      <td>2014–2018\\n</td>\n",
       "      <td>[keyboards, backing vocals]</td>\n",
       "      <td>former</td>\n",
       "    </tr>\n",
       "    <tr>\n",
       "      <th>90</th>\n",
       "      <td>Zak Rizvi</td>\n",
       "      <td>2016–2021\\n</td>\n",
       "      <td>[lead and rhythm guitars, backing vocals]</td>\n",
       "      <td>former</td>\n",
       "    </tr>\n",
       "  </tbody>\n",
       "</table>\n",
       "<p>91 rows × 4 columns</p>\n",
       "</div>"
      ],
      "text/plain": [
       "             names                               dates  \\\n",
       "0       Phil Ehart  1970–1971, 1973–1984, 1985–present   \n",
       "1    Rich Williams             1973–1984, 1985–present   \n",
       "2      Billy Greer                      1985–present\\n   \n",
       "3   David Ragsdale             1991–1997, 2006–present   \n",
       "4     Ronnie Platt                      2014–present\\n   \n",
       "..             ...                                 ...   \n",
       "86   John Elefante                         1981–1984\\n   \n",
       "87     Steve Morse                     1985–1989, 1991   \n",
       "88     Greg Robert                         1987–1997\\n   \n",
       "89    David Manion                         2014–2018\\n   \n",
       "90       Zak Rizvi                         2016–2021\\n   \n",
       "\n",
       "                                          instruments activity  \n",
       "0                                 [drums, percussion]  current  \n",
       "1   [guitars (lead 1984, 1989–90, 1991–99, 2000-20...  current  \n",
       "2   [bass, acoustic guitar, lead and backing vocal...  current  \n",
       "3   [violin, backing vocals (rhythm guitar from 19...  current  \n",
       "4                [lead and backing vocals, keyboards]  current  \n",
       "..                                                ...      ...  \n",
       "86  [lead and backing vocals, keyboards, synthesiz...   former  \n",
       "87          [lead and rhythm guitars, backing vocals]   former  \n",
       "88                        [keyboards, backing vocals]   former  \n",
       "89                        [keyboards, backing vocals]   former  \n",
       "90          [lead and rhythm guitars, backing vocals]   former  \n",
       "\n",
       "[91 rows x 4 columns]"
      ]
     },
     "execution_count": 1013,
     "metadata": {},
     "output_type": "execute_result"
    }
   ],
   "source": [
    "df_memspage"
   ]
  },
  {
   "cell_type": "code",
   "execution_count": 754,
   "id": "68d4e73c-748d-4d73-840b-f44b8adf4174",
   "metadata": {},
   "outputs": [],
   "source": [
    "### Retired function, after scraping into lists directly\n",
    "\n",
    "# def formatDates(row):\n",
    "#     dl = df_memspage['dates'][row]\n",
    "#     if '–' in dl:\n",
    "#         dl = dl.split('–')\n",
    "#     elif '-' in dl:\n",
    "#         dl = dl.split('-')\n",
    "#     print(dl)\n",
    "#     date_list = []\n",
    "#     date_list.append(dl[0]) # add first date\n",
    "#     if len(dl) > 2:\n",
    "#         for d in dl[1:-1]:\n",
    "#         # splits the middle dates in half. Assumes each is even number of ints\n",
    "#             h1 = d[:len(d)//2]\n",
    "#             h2 = i[len(d)//2:]\n",
    "#             date_list.append(h1)\n",
    "#             date_list.append(h2)\n",
    "#     date_list.append(dl[-1]) # add last date\n",
    "#     zipped_dl = list(zip(date_list[0::2], date_list[1::2])) # pairs \n",
    "#     df_memspage['dates'][row] = zipped_dl\n",
    "#     return zipped_dl"
   ]
  },
  {
   "cell_type": "code",
   "execution_count": 755,
   "id": "c3aabee5-94ed-4559-8265-81f473e58aeb",
   "metadata": {},
   "outputs": [],
   "source": [
    "# b[1:-1][0][0:4]\n",
    "# b[1:-1][0][4:8]"
   ]
  }
 ],
 "metadata": {
  "kernelspec": {
   "display_name": "Python 3",
   "language": "python",
   "name": "python3"
  },
  "language_info": {
   "codemirror_mode": {
    "name": "ipython",
    "version": 3
   },
   "file_extension": ".py",
   "mimetype": "text/x-python",
   "name": "python",
   "nbconvert_exporter": "python",
   "pygments_lexer": "ipython3",
   "version": "3.9.5"
  }
 },
 "nbformat": 4,
 "nbformat_minor": 5
}
