{
 "cells": [
  {
   "cell_type": "code",
   "execution_count": 2,
   "metadata": {},
   "outputs": [
    {
     "name": "stdout",
     "output_type": "stream",
     "text": [
      "Collecting argparse\n",
      "  Downloading argparse-1.4.0-py2.py3-none-any.whl (23 kB)\n",
      "Installing collected packages: argparse\n",
      "Successfully installed argparse-1.4.0\n"
     ]
    },
    {
     "name": "stderr",
     "output_type": "stream",
     "text": [
      "WARNING: You are using pip version 21.2.4; however, version 21.3.1 is available.\n",
      "You should consider upgrading via the 'c:\\users\\dwagn\\appdata\\local\\programs\\python\\python39\\python.exe -m pip install --upgrade pip' command.\n"
     ]
    }
   ],
   "source": [
    "# ! pip install argparse"
   ]
  },
  {
   "cell_type": "code",
   "execution_count": 71,
   "metadata": {},
   "outputs": [],
   "source": [
    "import os\n",
    "from os.path import exists\n",
    "import urllib.request\n",
    "import requests\n",
    "from bs4 import BeautifulSoup\n",
    "import pandas as pd"
   ]
  },
  {
   "cell_type": "code",
   "execution_count": null,
   "metadata": {},
   "outputs": [],
   "source": [
    "# opener = urllib.request.URLopener()\n",
    "# opener.addheader()\n"
   ]
  },
  {
   "cell_type": "code",
   "execution_count": 63,
   "metadata": {},
   "outputs": [
    {
     "name": "stdout",
     "output_type": "stream",
     "text": [
      "pokelinks.txt already exists\n"
     ]
    }
   ],
   "source": [
    "wd = 'c:\\\\Users\\\\dwagn\\\\Desktop'\n",
    "os.chdir(wd)\n",
    "filename = 'pokelinks.txt'\n",
    "\n",
    "if exists(wd + '\\\\' + filename) == True:\n",
    "    print(f'{filename} already exists')\n",
    "else:\n",
    "    print(f'{filename} created at {wd}')\n",
    "    with open(filename, 'w') as f:\n",
    "        f.close()"
   ]
  },
  {
   "cell_type": "code",
   "execution_count": 64,
   "metadata": {},
   "outputs": [],
   "source": [
    "def acquireLinks(pokemon, file):\n",
    "    url = 'https://pokemondb.net/pokedex/{}#dex-sprites'\n",
    "    page = requests.get(url.format(pokemon))\n",
    "\n",
    "    soup = BeautifulSoup(page.content, 'html.parser')\n",
    "    sprite_tags = soup.find_all('img', class_='img-fixed')\n",
    "    links = []\n",
    "    for image_tag in sprite_tags:\n",
    "        links.append(image_tag['src'])\n",
    "    sprites = [sp for sp in links if 'sprite' in sp]\n",
    "\n",
    "    with open(file, 'a') as f:\n",
    "        [f.write(x + '\\n') for x in sprites]\n",
    "        f.close()\n",
    "    print(f'Updated {file} with ', len(sprites), ' new links.', sep='')\n",
    "\n",
    "def reset_file(file):\n",
    "    file = open(file, 'w')\n",
    "    file.close()\n"
   ]
  },
  {
   "cell_type": "code",
   "execution_count": null,
   "metadata": {},
   "outputs": [],
   "source": [
    "with open('poke')"
   ]
  },
  {
   "cell_type": "code",
   "execution_count": 121,
   "metadata": {},
   "outputs": [],
   "source": [
    "def retrieveLink(link, dir, pokemon):\n",
    "\n",
    "    # bypass 403\n",
    "    opener = urllib.request.build_opener()\n",
    "    opener.addheaders = [('User-Agent', 'Chrome')]\n",
    "    urllib.request.install_opener(opener)\n",
    "\n",
    "    urllib.request.urlretrieve(link, dir + '\\\\poke_images\\\\{}.png'.format(pokemon))"
   ]
  },
  {
   "cell_type": "code",
   "execution_count": 122,
   "metadata": {},
   "outputs": [],
   "source": [
    "# pull images from links\n",
    "link = 'https://img.pokemondb.net/sprites/red-blue/normal/charmander.png'\n",
    "retrieveLink(link, wd, 'charmander')\n"
   ]
  },
  {
   "cell_type": "code",
   "execution_count": 88,
   "metadata": {},
   "outputs": [],
   "source": []
  },
  {
   "cell_type": "code",
   "execution_count": null,
   "metadata": {},
   "outputs": [],
   "source": []
  }
 ],
 "metadata": {
  "interpreter": {
   "hash": "40934032bcb06a90ac7a339334f7ca2dfa0afc406221c35b239b940070357232"
  },
  "kernelspec": {
   "display_name": "Python 3.9.5 64-bit",
   "language": "python",
   "name": "python3"
  },
  "language_info": {
   "codemirror_mode": {
    "name": "ipython",
    "version": 3
   },
   "file_extension": ".py",
   "mimetype": "text/x-python",
   "name": "python",
   "nbconvert_exporter": "python",
   "pygments_lexer": "ipython3",
   "version": "3.9.5"
  },
  "orig_nbformat": 4
 },
 "nbformat": 4,
 "nbformat_minor": 2
}
