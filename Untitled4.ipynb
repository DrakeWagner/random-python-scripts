{
 "cells": [
  {
   "cell_type": "code",
   "execution_count": null,
   "id": "335f1c32-219d-48ec-bd1c-c911b302f229",
   "metadata": {},
   "outputs": [],
   "source": []
  },
  {
   "cell_type": "code",
   "execution_count": 12,
   "id": "11bee6d8-18f1-40b3-84fb-f436b9a42b93",
   "metadata": {},
   "outputs": [],
   "source": [
    "import os\n",
    "import pandas as pd\n",
    "import matplotlib.pyplot as plt\n",
    "import pandas as pd\n",
    "from sklearn import (\n",
    "    ensemble,\n",
    "    preprocessing,\n",
    "    tree )\n",
    "from sklearn.metrics import *\n",
    "from sklearn.model_selection import *"
   ]
  },
  {
   "cell_type": "code",
   "execution_count": 29,
   "id": "00cd29c7-aad6-4ef0-9c35-1ebcefb50e2c",
   "metadata": {},
   "outputs": [
    {
     "name": "stdout",
     "output_type": "stream",
     "text": [
      "<class 'pandas.core.frame.DataFrame'>\n",
      "RangeIndex: 721 entries, 0 to 720\n",
      "Data columns (total 23 columns):\n",
      " #   Column            Non-Null Count  Dtype  \n",
      "---  ------            --------------  -----  \n",
      " 0   Number            721 non-null    int64  \n",
      " 1   Name              721 non-null    object \n",
      " 2   Type_1            721 non-null    object \n",
      " 3   Type_2            350 non-null    object \n",
      " 4   Total             721 non-null    int64  \n",
      " 5   HP                721 non-null    int64  \n",
      " 6   Attack            721 non-null    int64  \n",
      " 7   Defense           721 non-null    int64  \n",
      " 8   Sp_Atk            721 non-null    int64  \n",
      " 9   Sp_Def            721 non-null    int64  \n",
      " 10  Speed             721 non-null    int64  \n",
      " 11  Generation        721 non-null    int64  \n",
      " 12  isLegendary       721 non-null    bool   \n",
      " 13  Color             721 non-null    object \n",
      " 14  hasGender         721 non-null    bool   \n",
      " 15  Pr_Male           644 non-null    float64\n",
      " 16  Egg_Group_1       721 non-null    object \n",
      " 17  Egg_Group_2       191 non-null    object \n",
      " 18  hasMegaEvolution  721 non-null    bool   \n",
      " 19  Height_m          721 non-null    float64\n",
      " 20  Weight_kg         721 non-null    float64\n",
      " 21  Catch_Rate        721 non-null    int64  \n",
      " 22  Body_Style        721 non-null    object \n",
      "dtypes: bool(3), float64(3), int64(10), object(7)\n",
      "memory usage: 114.9+ KB\n"
     ]
    }
   ],
   "source": [
    "data.info()"
   ]
  },
  {
   "cell_type": "code",
   "execution_count": 39,
   "id": "8b5d2f33-18a8-4f65-9af8-3fa0c9a6041e",
   "metadata": {},
   "outputs": [],
   "source": [
    "data = pd.read_csv(\"data\\\\pokemon_data.csv\")\n",
    "data = data[data['Generation'] == 1] # original 151"
   ]
  },
  {
   "cell_type": "code",
   "execution_count": 43,
   "id": "44a7fab1-e205-4593-8765-2c241292cded",
   "metadata": {},
   "outputs": [
    {
     "data": {
      "text/plain": [
       "Number                0\n",
       "Name                  0\n",
       "Type_1                0\n",
       "Type_2               84\n",
       "Total                 0\n",
       "HP                    0\n",
       "Attack                0\n",
       "Defense               0\n",
       "Sp_Atk                0\n",
       "Sp_Def                0\n",
       "Speed                 0\n",
       "Generation            0\n",
       "isLegendary           0\n",
       "Color                 0\n",
       "hasGender             0\n",
       "Pr_Male              13\n",
       "Egg_Group_1           0\n",
       "Egg_Group_2         111\n",
       "hasMegaEvolution      0\n",
       "Height_m              0\n",
       "Weight_kg             0\n",
       "Catch_Rate            0\n",
       "Body_Style            0\n",
       "dtype: int64"
      ]
     },
     "execution_count": 43,
     "metadata": {},
     "output_type": "execute_result"
    }
   ],
   "source": [
    "data.isnull().sum()"
   ]
  },
  {
   "cell_type": "code",
   "execution_count": null,
   "id": "4b491d15-e47e-4f65-82c2-06484144355d",
   "metadata": {},
   "outputs": [],
   "source": []
  },
  {
   "cell_type": "code",
   "execution_count": null,
   "id": "1d56f95d-ab6b-4c9f-9b74-efc5a75bd195",
   "metadata": {},
   "outputs": [],
   "source": []
  },
  {
   "cell_type": "code",
   "execution_count": null,
   "id": "999a318b-5dbf-499e-a850-a865fec2cfb8",
   "metadata": {},
   "outputs": [],
   "source": []
  },
  {
   "cell_type": "code",
   "execution_count": null,
   "id": "b1bb26aa-8e9e-42e2-adfa-b83859c6f477",
   "metadata": {},
   "outputs": [],
   "source": []
  },
  {
   "cell_type": "code",
   "execution_count": null,
   "id": "54821a1c-3416-4c51-913f-fedd07d91ee3",
   "metadata": {},
   "outputs": [],
   "source": []
  },
  {
   "cell_type": "code",
   "execution_count": null,
   "id": "72f4b8b9-076b-4747-b203-2481ff90efb7",
   "metadata": {},
   "outputs": [],
   "source": []
  }
 ],
 "metadata": {
  "kernelspec": {
   "display_name": "Python 3",
   "language": "python",
   "name": "python3"
  },
  "language_info": {
   "codemirror_mode": {
    "name": "ipython",
    "version": 3
   },
   "file_extension": ".py",
   "mimetype": "text/x-python",
   "name": "python",
   "nbconvert_exporter": "python",
   "pygments_lexer": "ipython3",
   "version": "3.9.5"
  }
 },
 "nbformat": 4,
 "nbformat_minor": 5
}
