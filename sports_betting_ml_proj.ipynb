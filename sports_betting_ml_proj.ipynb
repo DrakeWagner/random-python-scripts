{
 "cells": [
  {
   "cell_type": "code",
   "execution_count": 2,
   "id": "7778daa1-2b77-48a0-9839-e68ed1aed8ed",
   "metadata": {},
   "outputs": [],
   "source": [
    "from bs4 import BeautifulSoup\n",
    "import requests\n",
    "import re"
   ]
  },
  {
   "cell_type": "code",
   "execution_count": 3,
   "id": "c7083501-ef13-483c-96e9-ed683f8f4cd7",
   "metadata": {},
   "outputs": [],
   "source": [
    "# scrape odds by team"
   ]
  },
  {
   "cell_type": "code",
   "execution_count": 4,
   "id": "d2a9083e-fbd0-4b93-9d04-80497884a986",
   "metadata": {},
   "outputs": [],
   "source": [
    "weeknum = 3\n",
    "url = \"https://sportsdata.usatoday.com/football/nfl/scores?type=Week+{}&season=2021-2022\".format(weeknum)\n",
    "try:\n",
    "    page = requests.get(url)\n",
    "except:\n",
    "    print('could not read address')\n",
    "    \n",
    "soup = BeautifulSoup(page.content, 'html.parser')"
   ]
  },
  {
   "cell_type": "code",
   "execution_count": 5,
   "id": "0f3c8d43-4ed9-4fa7-ab16-11afd88934ed",
   "metadata": {},
   "outputs": [],
   "source": [
    "teams = []\n",
    "for team in soup.findAll('span', {'class':'class-1fB7hU-'}):\n",
    "    neat = team.get_text()\n",
    "    teams.append(re.split(r'\\d', neat)[0]) # remove record"
   ]
  },
  {
   "cell_type": "code",
   "execution_count": null,
   "id": "f7c28adb-f24b-475b-9b67-ec9ab149ff76",
   "metadata": {},
   "outputs": [],
   "source": [
    "'''\n",
    "scores from past games\n",
    "'''\n",
    "idx = 0\n",
    "team_idx = 0\n",
    "cc_indx = 0\n",
    "\n",
    "divider = soup.select('div', {'class':'class-1p-RkhT'})\n",
    "\n",
    "for curr_table in divider:\n",
    "    for i in soup.select('li', {'class':'class-26c9E3s'}):\n",
    "        for y in soup.select('span', {'class':'class-1fB7hU-'}):\n",
    "            for z in soup.select('span', {'class': 'class-1XRIaSu'}):\n",
    "                neat_z = z.get_text()\n",
    "#             print(y.get_text())\n"
   ]
  },
  {
   "cell_type": "code",
   "execution_count": 5,
   "id": "1986814d-5204-4b27-b5db-f2b7080b5abf",
   "metadata": {},
   "outputs": [
    {
     "name": "stdout",
     "output_type": "stream",
     "text": [
      "\n",
      "table 0\n",
      "Odds for Colts vs. Titans.\n",
      "a +170\n",
      "a -210\n",
      "\n",
      "table 1\n",
      "Odds for Saints vs. Patriots.\n",
      "a -1400\n",
      "a +750\n",
      "\n",
      "table 2\n",
      "Odds for Falcons vs. Giants.\n",
      "a +133\n",
      "a -165\n",
      "\n",
      "table 3\n",
      "Odds for Bears vs. Browns.\n",
      "a +570\n",
      "a -900\n",
      "\n",
      "table 4\n",
      "Odds for Chargers vs. Chiefs.\n",
      "a -117\n",
      "a -103\n",
      "\n",
      "table 5\n",
      "Odds for ARI vs. Jaguars.\n",
      "a -145\n",
      "a +120\n",
      "\n",
      "table 6\n",
      "Odds for WAS vs. Bills.\n",
      "a +750\n",
      "a -1400\n",
      "\n",
      "table 7\n",
      "Odds for Ravens vs. Lions.\n",
      "a -2500\n",
      "a +1000\n",
      "\n",
      "table 8\n",
      "Odds for Bengals vs. Steelers.\n",
      "a -380\n",
      "a +290\n",
      "\n",
      "table 9\n",
      "Odds for Jets vs. Broncos.\n",
      "a +380\n",
      "a -540\n",
      "\n",
      "table 10\n",
      "Odds for Dolphins vs. Raiders.\n",
      "a +155\n",
      "a -190\n",
      "\n",
      "table 11\n",
      "Odds for TB vs. Rams.\n",
      "a -115\n",
      "a -105\n",
      "\n",
      "table 12\n",
      "Odds for Seahawks vs. Vikings.\n",
      "a -130\n",
      "a +105\n",
      "\n",
      "table 13\n",
      "Odds for Packers vs. .\n",
      "a +135\n",
      "a -170\n",
      "\n",
      "table 14\n",
      "Odds for Eagles vs. Cowboys.\n",
      "a +145\n",
      "a -180\n"
     ]
    }
   ],
   "source": [
    "'''\n",
    "This cell obtains odds by game\n",
    "'''\n",
    "\n",
    "table = soup.findAll('table', {'class': 'class-1ZiOxWq'})\n",
    "idx = 0\n",
    "team_idx = 0\n",
    "cc_indx = 0\n",
    "for curr_table in table:\n",
    "    print('\\ntable {}'.format(idx))\n",
    "    print('Odds for {} vs. {}.'.format(teams[team_idx], teams[team_idx+1]))\n",
    "    rows = curr_table.select('tr', recursive=False)\n",
    "    for r in rows:\n",
    "        cell = r.select('td', recursive=False)\n",
    "        cell_idx = 0\n",
    "        cc_indx += 1 # 23, 56, 89 are lines\n",
    "        for c in cell:\n",
    "#             print(c.get_text())\n",
    "            cell_idx += 1\n",
    "            if cell_idx == 2:\n",
    "                neat_c = str(c.get_text())\n",
    "                print('a', neat_c)      \n",
    "    idx += 1\n",
    "    team_idx += 2        "
   ]
  }
 ],
 "metadata": {
  "kernelspec": {
   "display_name": "Python 3",
   "language": "python",
   "name": "python3"
  },
  "language_info": {
   "codemirror_mode": {
    "name": "ipython",
    "version": 3
   },
   "file_extension": ".py",
   "mimetype": "text/x-python",
   "name": "python",
   "nbconvert_exporter": "python",
   "pygments_lexer": "ipython3",
   "version": "3.9.5"
  }
 },
 "nbformat": 4,
 "nbformat_minor": 5
}
