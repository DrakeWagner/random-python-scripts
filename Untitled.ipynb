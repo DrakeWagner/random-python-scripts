{
 "cells": [
  {
   "cell_type": "code",
   "execution_count": null,
   "id": "7778daa1-2b77-48a0-9839-e68ed1aed8ed",
   "metadata": {},
   "outputs": [],
   "source": []
  }
 ],
 "metadata": {
  "kernelspec": {
   "display_name": "Python 3",
   "language": "python",
   "name": "python3"
  },
  "language_info": {
   "name": ""
  }
 },
 "nbformat": 4,
 "nbformat_minor": 5
}
